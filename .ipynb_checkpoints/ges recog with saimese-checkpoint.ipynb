version https://git-lfs.github.com/spec/v1
oid sha256:c3a86ed3bc948cd2d6391ce0fd30019393f2b1fa8b1307a281bcefaeeb6fdf60
size 28675
